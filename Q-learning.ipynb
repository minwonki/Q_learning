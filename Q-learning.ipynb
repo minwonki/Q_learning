{
 "cells": [
  {
   "cell_type": "code",
   "execution_count": 1,
   "metadata": {
    "collapsed": false
   },
   "outputs": [],
   "source": [
    "import gym\n",
    "import numpy as np\n",
    "import matplotlib.pyplot as plt\n",
    "from gym.envs.registration import register\n",
    "import random as pr"
   ]
  },
  {
   "cell_type": "code",
   "execution_count": 13,
   "metadata": {
    "collapsed": true
   },
   "outputs": [],
   "source": [
    "def rargmax(vector):\n",
    "    m = np.amax(vector)\n",
    "    indices = np.nonzero(vector == m)[0]\n",
    "    return pr.choice(indices)"
   ]
  },
  {
   "cell_type": "code",
   "execution_count": 14,
   "metadata": {
    "collapsed": false
   },
   "outputs": [
    {
     "name": "stderr",
     "output_type": "stream",
     "text": [
      "[2017-02-07 17:31:09,120] Making new env: FrozenLake-v0\n"
     ]
    }
   ],
   "source": [
    "# register(\n",
    "#     id='FrozenLake-v3',\n",
    "#     entry_point='gym.envs.toy_text:FrozenLakeEnv',\n",
    "#     kwargs={'map_name':'4x4', 'is_slippery':True}\n",
    "# )\n",
    "env = gym.make('FrozenLake-v0')\n"
   ]
  },
  {
   "cell_type": "code",
   "execution_count": 40,
   "metadata": {
    "collapsed": true
   },
   "outputs": [],
   "source": [
    "# Initialize table with all zeros\n",
    "Q = np.zeros([env.observation_space.n, env.action_space.n])\n",
    "# Non-deterministic world \n",
    "learning_rate = .85\n",
    "# Discount factor\n",
    "dis = .99\n",
    "# Set learning parameters\n",
    "num_episodes = 2000"
   ]
  },
  {
   "cell_type": "code",
   "execution_count": 41,
   "metadata": {
    "collapsed": false
   },
   "outputs": [],
   "source": [
    "# create lists to contain total rewards and steps per episode\n",
    "rList = []\n",
    "for i in range(num_episodes):\n",
    "    # Exploit Vs Exploration: decaying E-greedy\n",
    "    e = 1. / ((i // 100) + 1)\n",
    "    \n",
    "    # Reset environment and get first new obervation\n",
    "    state = env.reset()\n",
    "    rAll = 0\n",
    "    done = False\n",
    "    \n",
    "    # The Q-Table learning alogorithm\n",
    "    while not done:\n",
    "        \n",
    "        # Exploit Vs Exploration: decaying E-greedy\n",
    "        # if np.random.rand(1) < e:\n",
    "        #     action = env.action_space.sample()\n",
    "        # else:\n",
    "        #    action = np.argmax(Q[state, :])\n",
    "        \n",
    "        # Exploit Vs Exploration : add random noise\n",
    "        action = np.argmax(Q[state,:] + np.random.randn(1, env.action_space.n)/(i + 1))\n",
    "        \n",
    "        # Get new state and reward from environmemt\n",
    "        new_state, reward, done, _ = env.step(action)\n",
    "        \n",
    "\n",
    "        # Updata Q-Table with new knowledge using learning rate\n",
    "        # Q[state,action] = reward + dis * np.max(Q[new_state,:])\n",
    "        \n",
    "        # Update Q-Table with Non-deterministic world\n",
    "        \n",
    "        Q[state,action] = (1 - learning_rate) * Q[state,action] \\\n",
    "        + learning_rate * (reward + dis * np.max(Q[new_state,:]))\n",
    "        \n",
    "        rAll += reward\n",
    "        state = new_state\n",
    "        \n",
    "    rList.append(rAll)\n"
   ]
  },
  {
   "cell_type": "code",
   "execution_count": 42,
   "metadata": {
    "collapsed": false,
    "scrolled": true
   },
   "outputs": [
    {
     "name": "stdout",
     "output_type": "stream",
     "text": [
      "Success rate: 0.63\n",
      "Final Q-Table Values\n",
      "LEFT DOWN RIGHT UP\n",
      "[[  8.68849693e-03   2.95533744e-01   1.79623987e-02   1.75949698e-02]\n",
      " [  2.40326164e-03   1.96639771e-03   1.57874086e-03   2.24104572e-01]\n",
      " [  3.15234476e-03   3.12187239e-03   1.12694044e-02   1.91136960e-01]\n",
      " [  3.92771075e-04   4.39910595e-04   2.33144536e-03   1.68027838e-01]\n",
      " [  3.56394423e-01   1.73457837e-04   3.04587753e-05   2.90128059e-03]\n",
      " [  0.00000000e+00   0.00000000e+00   0.00000000e+00   0.00000000e+00]\n",
      " [  1.42950606e-05   3.00439745e-04   3.66206336e-01   1.69014581e-04]\n",
      " [  0.00000000e+00   0.00000000e+00   0.00000000e+00   0.00000000e+00]\n",
      " [  5.63872303e-04   3.72392055e-03   3.74525790e-03   3.19377632e-01]\n",
      " [  1.65439995e-03   5.52872227e-01   8.59068873e-04   7.20376049e-04]\n",
      " [  7.20109606e-01   0.00000000e+00   2.81093989e-04   8.74946919e-04]\n",
      " [  0.00000000e+00   0.00000000e+00   0.00000000e+00   0.00000000e+00]\n",
      " [  0.00000000e+00   0.00000000e+00   0.00000000e+00   0.00000000e+00]\n",
      " [  2.42106849e-03   2.87708674e-03   9.32713892e-01   1.52913429e-03]\n",
      " [  0.00000000e+00   0.00000000e+00   9.68201240e-01   0.00000000e+00]\n",
      " [  0.00000000e+00   0.00000000e+00   0.00000000e+00   0.00000000e+00]]\n"
     ]
    },
    {
     "data": {
      "image/png": "[encoded data removed]",
      "text/plain": [
       "<matplotlib.figure.Figure at 0x10ceb9690>"
      ]
     },
     "metadata": {},
     "output_type": "display_data"
    }
   ],
   "source": [
    "print(\"Success rate: \" + str(sum(rList)/num_episodes))\n",
    "print(\"Final Q-Table Values\")\n",
    "print(\"LEFT DOWN RIGHT UP\")\n",
    "print(Q)\n",
    "plt.bar(range(len(rList)), rList, color=\"blue\")\n",
    "plt.show()"
   ]
  },
  {
   "cell_type": "code",
   "execution_count": null,
   "metadata": {
    "collapsed": true
   },
   "outputs": [],
   "source": []
  }
 ],
 "metadata": {
  "anaconda-cloud": {},
  "kernelspec": {
   "display_name": "Python [conda env:tensorflow]",
   "language": "python",
   "name": "conda-env-tensorflow-py"
  },
  "language_info": {
   "codemirror_mode": {
    "name": "ipython",
    "version": 2
   },
   "file_extension": ".py",
   "mimetype": "text/x-python",
   "name": "python",
   "nbconvert_exporter": "python",
   "pygments_lexer": "ipython2",
   "version": "2.7.13"
  }
 },
 "nbformat": 4,
 "nbformat_minor": 2
}
